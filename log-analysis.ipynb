{
 "cells": [
  {
   "cell_type": "markdown",
   "metadata": {},
   "source": [
    "# Log Analysis"
   ]
  },
  {
   "cell_type": "markdown",
   "metadata": {},
   "source": [
    "## Summary\n",
    "1. Data parsing:\n",
    "    * parse log lines into different columns with regex `df.select(regexp_extract('column_to_be_parsed', regex_pattern, 1).alias('new_column_name'), ...)`\n",
    "2. Data cleaning:\n",
    "    * remove rows with no information `df = df[df['column'].isNotNull()]`\n",
    "    * fill missing values `df = df.na.fill({'column': 'value'})`\n",
    "    * deal with date formats, turn '01/Jul/1995:00:00:01 -0400' to '1995-07-01 00:00:01': use a udf to reorder the years and the days and map the month strings to digits\n",
    "3. Data analysis:\n",
    "    * content size statistics - avg, max, min `df.describe(['column'])`\n",
    "    * status - return (status, count), visualize status proportion in a pie chart `plt.pie(proportions, labels=labels, colors=colors, autopct=pie_pct_format, shadow=False, startangle=125)`\n",
    "    ```\n",
    "    rdd.map(lambda data: (data.column, 1)).reduceByKey(lambda a, b: a + b) # returns (value, count)\n",
    "    rdd.map(lambda x: x[0]).collect() # returns labels\n",
    "    rdd.map(lambda x: (float(x[1]) / count)).collect() # returns percentages of counts\n",
    "    ```\n",
    "    * endpoints - top ten endpoints, top ten error endpoints\n",
    "    * hosts - number of unique hosts, number of unique daily hosts, average number of daily requests per hosts\n",
    "    ```\n",
    "    rdd.distinct() # returns unique values\n",
    "    df.select(df.column, # creates a df with two columns\n",
    "              F.dayofmonth('time').alias('day')) # extracts day from date\n",
    "    df.dropDuplicates() # removes duplicates\n",
    "    df.groupBy('day').count().sort('day')) # returns (value, count)\n",
    "    df = df.toPandas() # then use seaborn to plot graph using this df\n",
    "    ```\n",
    "    * 404 errors - top twenty 404 urls, visualizing 404 errors per day, top three days for 404 errors"
   ]
  },
  {
   "cell_type": "code",
   "execution_count": 1,
   "metadata": {},
   "outputs": [],
   "source": [
    "from pyspark.context import SparkContext\n",
    "from pyspark.sql.context import SQLContext\n",
    "from pyspark.sql.session import SparkSession\n",
    "import re\n",
    "import pandas as pd\n",
    "import glob\n",
    "\n",
    "sc = SparkContext()\n",
    "sqlContext = SQLContext(sc)\n",
    "spark = SparkSession(sc)"
   ]
  },
  {
   "cell_type": "code",
   "execution_count": 2,
   "metadata": {
    "scrolled": true
   },
   "outputs": [
    {
     "name": "stdout",
     "output_type": "stream",
     "text": [
      "root\n",
      " |-- value: string (nullable = true)\n",
      "\n",
      "+-----------------------------------------------------------------------------------------------------------------------+\n",
      "|value                                                                                                                  |\n",
      "+-----------------------------------------------------------------------------------------------------------------------+\n",
      "|199.72.81.55 - - [01/Jul/1995:00:00:01 -0400] \"GET /history/apollo/ HTTP/1.0\" 200 6245                                 |\n",
      "|unicomp6.unicomp.net - - [01/Jul/1995:00:00:06 -0400] \"GET /shuttle/countdown/ HTTP/1.0\" 200 3985                      |\n",
      "|199.120.110.21 - - [01/Jul/1995:00:00:09 -0400] \"GET /shuttle/missions/sts-73/mission-sts-73.html HTTP/1.0\" 200 4085   |\n",
      "|burger.letters.com - - [01/Jul/1995:00:00:11 -0400] \"GET /shuttle/countdown/liftoff.html HTTP/1.0\" 304 0               |\n",
      "|199.120.110.21 - - [01/Jul/1995:00:00:11 -0400] \"GET /shuttle/missions/sts-73/sts-73-patch-small.gif HTTP/1.0\" 200 4179|\n",
      "|burger.letters.com - - [01/Jul/1995:00:00:12 -0400] \"GET /images/NASA-logosmall.gif HTTP/1.0\" 304 0                    |\n",
      "|burger.letters.com - - [01/Jul/1995:00:00:12 -0400] \"GET /shuttle/countdown/video/livevideo.gif HTTP/1.0\" 200 0        |\n",
      "|205.212.115.106 - - [01/Jul/1995:00:00:12 -0400] \"GET /shuttle/countdown/countdown.html HTTP/1.0\" 200 3985             |\n",
      "|d104.aa.net - - [01/Jul/1995:00:00:13 -0400] \"GET /shuttle/countdown/ HTTP/1.0\" 200 3985                               |\n",
      "|129.94.144.152 - - [01/Jul/1995:00:00:13 -0400] \"GET / HTTP/1.0\" 200 7074                                              |\n",
      "+-----------------------------------------------------------------------------------------------------------------------+\n",
      "only showing top 10 rows\n",
      "\n"
     ]
    }
   ],
   "source": [
    "raw_data_files = glob.glob('*.gz')\n",
    "raw_data_files\n",
    "base_df = spark.read.text(raw_data_files)\n",
    "base_df.printSchema()\n",
    "base_df.show(10, truncate=False)"
   ]
  },
  {
   "cell_type": "markdown",
   "metadata": {},
   "source": [
    "## Data parsing"
   ]
  },
  {
   "cell_type": "code",
   "execution_count": 3,
   "metadata": {
    "scrolled": true
   },
   "outputs": [
    {
     "name": "stdout",
     "output_type": "stream",
     "text": [
      "+--------------------+--------------------------+------+-----------------------------------------------+--------+------+------------+\n",
      "|host                |timestamp                 |method|endpoint                                       |protocol|status|content_size|\n",
      "+--------------------+--------------------------+------+-----------------------------------------------+--------+------+------------+\n",
      "|199.72.81.55        |01/Jul/1995:00:00:01 -0400|GET   |/history/apollo/                               |HTTP/1.0|200   |6245        |\n",
      "|unicomp6.unicomp.net|01/Jul/1995:00:00:06 -0400|GET   |/shuttle/countdown/                            |HTTP/1.0|200   |3985        |\n",
      "|199.120.110.21      |01/Jul/1995:00:00:09 -0400|GET   |/shuttle/missions/sts-73/mission-sts-73.html   |HTTP/1.0|200   |4085        |\n",
      "|burger.letters.com  |01/Jul/1995:00:00:11 -0400|GET   |/shuttle/countdown/liftoff.html                |HTTP/1.0|304   |0           |\n",
      "|199.120.110.21      |01/Jul/1995:00:00:11 -0400|GET   |/shuttle/missions/sts-73/sts-73-patch-small.gif|HTTP/1.0|200   |4179        |\n",
      "|burger.letters.com  |01/Jul/1995:00:00:12 -0400|GET   |/images/NASA-logosmall.gif                     |HTTP/1.0|304   |0           |\n",
      "|burger.letters.com  |01/Jul/1995:00:00:12 -0400|GET   |/shuttle/countdown/video/livevideo.gif         |HTTP/1.0|200   |0           |\n",
      "|205.212.115.106     |01/Jul/1995:00:00:12 -0400|GET   |/shuttle/countdown/countdown.html              |HTTP/1.0|200   |3985        |\n",
      "|d104.aa.net         |01/Jul/1995:00:00:13 -0400|GET   |/shuttle/countdown/                            |HTTP/1.0|200   |3985        |\n",
      "|129.94.144.152      |01/Jul/1995:00:00:13 -0400|GET   |/                                              |HTTP/1.0|200   |7074        |\n",
      "+--------------------+--------------------------+------+-----------------------------------------------+--------+------+------------+\n",
      "only showing top 10 rows\n",
      "\n",
      "3461613 7\n"
     ]
    }
   ],
   "source": [
    "from pyspark.sql.functions import regexp_extract\n",
    "\n",
    "host_pattern = r'(^\\S+\\.[\\S+\\.]+\\S+)\\s'\n",
    "ts_pattern = r'\\[(\\d{2}/\\w{3}/\\d{4}:\\d{2}:\\d{2}:\\d{2} -\\d{4})]'\n",
    "method_uri_protocol_pattern = r'\\\"(\\S+)\\s(\\S+)\\s*(\\S*)\\\"'\n",
    "status_pattern = r'\\s(\\d{3})\\s'\n",
    "content_size_pattern = r'\\s(\\d+)$'\n",
    "\n",
    "logs_df = base_df.select(regexp_extract('value', host_pattern, 1).alias('host'),\n",
    "                         regexp_extract('value', ts_pattern, 1).alias('timestamp'),\n",
    "                         regexp_extract('value', method_uri_protocol_pattern, 1).alias('method'),\n",
    "                         regexp_extract('value', method_uri_protocol_pattern, 2).alias('endpoint'),\n",
    "                         regexp_extract('value', method_uri_protocol_pattern, 3).alias('protocol'),\n",
    "                         regexp_extract('value', status_pattern, 1).cast('integer').alias('status'),\n",
    "                         regexp_extract('value', content_size_pattern, 1).cast('integer').alias('content_size'))\n",
    "logs_df.show(10, truncate=False)\n",
    "print(logs_df.count(), len(logs_df.columns))"
   ]
  },
  {
   "cell_type": "markdown",
   "metadata": {},
   "source": [
    "## Data cleaning"
   ]
  },
  {
   "cell_type": "code",
   "execution_count": 4,
   "metadata": {},
   "outputs": [
    {
     "data": {
      "text/plain": [
       "33905"
      ]
     },
     "execution_count": 4,
     "metadata": {},
     "output_type": "execute_result"
    }
   ],
   "source": [
    "bad_rows_df = logs_df.filter(logs_df['host'].isNull()| \n",
    "                             logs_df['timestamp'].isNull()| \n",
    "                             logs_df['method'].isNull() |\n",
    "                             logs_df['endpoint'].isNull() |\n",
    "                             logs_df['status'].isNull() |\n",
    "                             logs_df['content_size'].isNull()|\n",
    "                             logs_df['protocol'].isNull())\n",
    "bad_rows_df.count()"
   ]
  },
  {
   "cell_type": "markdown",
   "metadata": {},
   "source": [
    "There are 33905 null values."
   ]
  },
  {
   "cell_type": "code",
   "execution_count": 5,
   "metadata": {},
   "outputs": [
    {
     "data": {
      "text/plain": [
       "['host',\n",
       " 'timestamp',\n",
       " 'method',\n",
       " 'endpoint',\n",
       " 'protocol',\n",
       " 'status',\n",
       " 'content_size']"
      ]
     },
     "execution_count": 5,
     "metadata": {},
     "output_type": "execute_result"
    }
   ],
   "source": [
    "logs_df.columns"
   ]
  },
  {
   "cell_type": "code",
   "execution_count": 6,
   "metadata": {},
   "outputs": [
    {
     "name": "stdout",
     "output_type": "stream",
     "text": [
      "+----+---------+------+--------+--------+------+------------+\n",
      "|host|timestamp|method|endpoint|protocol|status|content_size|\n",
      "+----+---------+------+--------+--------+------+------------+\n",
      "|   0|        0|     0|       0|       0|     1|       33905|\n",
      "+----+---------+------+--------+--------+------+------------+\n",
      "\n"
     ]
    }
   ],
   "source": [
    "from pyspark.sql.functions import col\n",
    "from pyspark.sql.functions import sum as spark_sum\n",
    "\n",
    "def count_null(col_name):\n",
    "    return spark_sum(col(col_name).isNull().cast('integer')).alias(col_name)\n",
    "\n",
    "# Build up a list of column expressions, one per column.\n",
    "exprs = [count_null(col_name) for col_name in logs_df.columns]\n",
    "\n",
    "# Run the aggregation. The *exprs converts the list of expressions into\n",
    "# variable function arguments.\n",
    "logs_df.agg(*exprs).show()"
   ]
  },
  {
   "cell_type": "code",
   "execution_count": 7,
   "metadata": {},
   "outputs": [
    {
     "data": {
      "text/plain": [
       "1"
      ]
     },
     "execution_count": 7,
     "metadata": {},
     "output_type": "execute_result"
    }
   ],
   "source": [
    "null_status_df = logs_df.filter(logs_df['status'].isNull())\n",
    "null_status_df.count()"
   ]
  },
  {
   "cell_type": "code",
   "execution_count": 8,
   "metadata": {},
   "outputs": [
    {
     "name": "stdout",
     "output_type": "stream",
     "text": [
      "+----+---------+------+--------+--------+------+------------+\n",
      "|host|timestamp|method|endpoint|protocol|status|content_size|\n",
      "+----+---------+------+--------+--------+------+------------+\n",
      "|    |         |      |        |        |null  |null        |\n",
      "+----+---------+------+--------+--------+------+------------+\n",
      "\n"
     ]
    }
   ],
   "source": [
    "null_status_df.show(truncate=False)"
   ]
  },
  {
   "cell_type": "code",
   "execution_count": 9,
   "metadata": {},
   "outputs": [
    {
     "data": {
      "text/plain": [
       "3461613"
      ]
     },
     "execution_count": 9,
     "metadata": {},
     "output_type": "execute_result"
    }
   ],
   "source": [
    "logs_df.count()"
   ]
  },
  {
   "cell_type": "code",
   "execution_count": 10,
   "metadata": {},
   "outputs": [
    {
     "data": {
      "text/plain": [
       "3461612"
      ]
     },
     "execution_count": 10,
     "metadata": {},
     "output_type": "execute_result"
    }
   ],
   "source": [
    "# remove this row since it carries no useful information\n",
    "logs_df = logs_df[logs_df['status'].isNotNull()] \n",
    "\n",
    "logs_df.count()"
   ]
  },
  {
   "cell_type": "code",
   "execution_count": 11,
   "metadata": {},
   "outputs": [
    {
     "name": "stdout",
     "output_type": "stream",
     "text": [
      "+----+---------+------+--------+--------+------+------------+\n",
      "|host|timestamp|method|endpoint|protocol|status|content_size|\n",
      "+----+---------+------+--------+--------+------+------------+\n",
      "|   0|        0|     0|       0|       0|     0|       33904|\n",
      "+----+---------+------+--------+--------+------+------------+\n",
      "\n"
     ]
    }
   ],
   "source": [
    "exprs = [count_null(col_name) for col_name in logs_df.columns]\n",
    "logs_df.agg(*exprs).show()"
   ]
  },
  {
   "cell_type": "code",
   "execution_count": 12,
   "metadata": {},
   "outputs": [
    {
     "data": {
      "text/plain": [
       "33904"
      ]
     },
     "execution_count": 12,
     "metadata": {},
     "output_type": "execute_result"
    }
   ],
   "source": [
    "null_content_size_df = logs_df.filter(logs_df['content_size'].isNull())\n",
    "null_content_size_df.count()"
   ]
  },
  {
   "cell_type": "code",
   "execution_count": 13,
   "metadata": {},
   "outputs": [
    {
     "data": {
      "text/plain": [
       "[Row(host='dd15-062.compuserve.com', timestamp='01/Jul/1995:00:01:12 -0400', method='GET', endpoint='/news/sci.space.shuttle/archive/sci-space-shuttle-22-apr-1995-40.txt', protocol='HTTP/1.0', status=404, content_size=None),\n",
       " Row(host='dynip42.efn.org', timestamp='01/Jul/1995:00:02:14 -0400', method='GET', endpoint='/software', protocol='HTTP/1.0', status=302, content_size=None),\n",
       " Row(host='ix-or10-06.ix.netcom.com', timestamp='01/Jul/1995:00:02:40 -0400', method='GET', endpoint='/software/winvn', protocol='HTTP/1.0', status=302, content_size=None),\n",
       " Row(host='ix-or10-06.ix.netcom.com', timestamp='01/Jul/1995:00:03:24 -0400', method='GET', endpoint='/software', protocol='HTTP/1.0', status=302, content_size=None),\n",
       " Row(host='link097.txdirect.net', timestamp='01/Jul/1995:00:05:06 -0400', method='GET', endpoint='/shuttle', protocol='HTTP/1.0', status=302, content_size=None),\n",
       " Row(host='ix-war-mi1-20.ix.netcom.com', timestamp='01/Jul/1995:00:05:13 -0400', method='GET', endpoint='/shuttle/missions/sts-78/news', protocol='HTTP/1.0', status=302, content_size=None),\n",
       " Row(host='ix-war-mi1-20.ix.netcom.com', timestamp='01/Jul/1995:00:05:58 -0400', method='GET', endpoint='/shuttle/missions/sts-72/news', protocol='HTTP/1.0', status=302, content_size=None),\n",
       " Row(host='netport-27.iu.net', timestamp='01/Jul/1995:00:10:19 -0400', method='GET', endpoint='/pub/winvn/readme.txt', protocol='HTTP/1.0', status=404, content_size=None),\n",
       " Row(host='netport-27.iu.net', timestamp='01/Jul/1995:00:10:28 -0400', method='GET', endpoint='/pub/winvn/readme.txt', protocol='HTTP/1.0', status=404, content_size=None),\n",
       " Row(host='dynip38.efn.org', timestamp='01/Jul/1995:00:10:50 -0400', method='GET', endpoint='/software', protocol='HTTP/1.0', status=302, content_size=None)]"
      ]
     },
     "execution_count": 13,
     "metadata": {},
     "output_type": "execute_result"
    }
   ],
   "source": [
    "null_content_size_df.take(10)"
   ]
  },
  {
   "cell_type": "markdown",
   "metadata": {},
   "source": [
    "We see that the none content size is due to error responses like 404, 302, etc. We can fill the null values with 0."
   ]
  },
  {
   "cell_type": "code",
   "execution_count": 14,
   "metadata": {},
   "outputs": [],
   "source": [
    "# fill all the missing values in the content_size field with 0\n",
    "logs_df = logs_df.na.fill({'content_size': 0})"
   ]
  },
  {
   "cell_type": "code",
   "execution_count": 15,
   "metadata": {},
   "outputs": [
    {
     "name": "stdout",
     "output_type": "stream",
     "text": [
      "+----+---------+------+--------+--------+------+------------+\n",
      "|host|timestamp|method|endpoint|protocol|status|content_size|\n",
      "+----+---------+------+--------+--------+------+------------+\n",
      "|   0|        0|     0|       0|       0|     0|           0|\n",
      "+----+---------+------+--------+--------+------+------------+\n",
      "\n"
     ]
    }
   ],
   "source": [
    "# final check\n",
    "exprs = [count_null(col_name) for col_name in logs_df.columns]\n",
    "logs_df.agg(*exprs).show()"
   ]
  },
  {
   "cell_type": "markdown",
   "metadata": {},
   "source": [
    "Now we format the timestamp. We want to turn '01/Jul/1995:00:00:01 -0400' to '1995-07-01 00:00:01'."
   ]
  },
  {
   "cell_type": "code",
   "execution_count": 16,
   "metadata": {},
   "outputs": [],
   "source": [
    "from pyspark.sql.functions import udf\n",
    "\n",
    "month_map = {\n",
    "  'Jan': 1, 'Feb': 2, 'Mar':3, 'Apr':4, 'May':5, 'Jun':6, 'Jul':7,\n",
    "  'Aug':8,  'Sep': 9, 'Oct':10, 'Nov': 11, 'Dec': 12\n",
    "}\n",
    "\n",
    "def parse_clf_time(text):\n",
    "    \"\"\" Convert Common Log time format into a Python datetime object\n",
    "    Args:\n",
    "        text (str): date and time in Apache time format [dd/mmm/yyyy:hh:mm:ss (+/-)zzzz]\n",
    "    Returns:\n",
    "        a string suitable for passing to CAST('timestamp')\n",
    "    \"\"\"\n",
    "    # NOTE: We're ignoring the time zones here, might need to be handled depending on the problem you are solving\n",
    "    return \"{0:04d}-{1:02d}-{2:02d} {3:02d}:{4:02d}:{5:02d}\".format(\n",
    "      int(text[7:11]),\n",
    "      month_map[text[3:6]],\n",
    "      int(text[0:2]),\n",
    "      int(text[12:14]),\n",
    "      int(text[15:17]),\n",
    "      int(text[18:20])\n",
    "    )"
   ]
  },
  {
   "cell_type": "code",
   "execution_count": 17,
   "metadata": {},
   "outputs": [
    {
     "name": "stdout",
     "output_type": "stream",
     "text": [
      "+--------------------+------+--------------------+--------+------+------------+-------------------+\n",
      "|                host|method|            endpoint|protocol|status|content_size|               time|\n",
      "+--------------------+------+--------------------+--------+------+------------+-------------------+\n",
      "|        199.72.81.55|   GET|    /history/apollo/|HTTP/1.0|   200|        6245|1995-07-01 00:00:01|\n",
      "|unicomp6.unicomp.net|   GET| /shuttle/countdown/|HTTP/1.0|   200|        3985|1995-07-01 00:00:06|\n",
      "|      199.120.110.21|   GET|/shuttle/missions...|HTTP/1.0|   200|        4085|1995-07-01 00:00:09|\n",
      "|  burger.letters.com|   GET|/shuttle/countdow...|HTTP/1.0|   304|           0|1995-07-01 00:00:11|\n",
      "|      199.120.110.21|   GET|/shuttle/missions...|HTTP/1.0|   200|        4179|1995-07-01 00:00:11|\n",
      "|  burger.letters.com|   GET|/images/NASA-logo...|HTTP/1.0|   304|           0|1995-07-01 00:00:12|\n",
      "|  burger.letters.com|   GET|/shuttle/countdow...|HTTP/1.0|   200|           0|1995-07-01 00:00:12|\n",
      "|     205.212.115.106|   GET|/shuttle/countdow...|HTTP/1.0|   200|        3985|1995-07-01 00:00:12|\n",
      "|         d104.aa.net|   GET| /shuttle/countdown/|HTTP/1.0|   200|        3985|1995-07-01 00:00:13|\n",
      "|      129.94.144.152|   GET|                   /|HTTP/1.0|   200|        7074|1995-07-01 00:00:13|\n",
      "+--------------------+------+--------------------+--------+------+------------+-------------------+\n",
      "only showing top 10 rows\n",
      "\n"
     ]
    }
   ],
   "source": [
    "udf_parse_time = udf(parse_clf_time)\n",
    "\n",
    "logs_df = logs_df.select('*', udf_parse_time(logs_df['timestamp']).cast('timestamp').alias('time')).drop('timestamp')\n",
    "logs_df.show(10, truncate=True)"
   ]
  },
  {
   "cell_type": "markdown",
   "metadata": {},
   "source": [
    "# Data Analysis"
   ]
  },
  {
   "cell_type": "code",
   "execution_count": 18,
   "metadata": {},
   "outputs": [],
   "source": [
    "# turn df to rdd\n",
    "logs_rdd = logs_df.rdd"
   ]
  },
  {
   "cell_type": "markdown",
   "metadata": {},
   "source": [
    "## Content size statistics"
   ]
  },
  {
   "cell_type": "code",
   "execution_count": 19,
   "metadata": {},
   "outputs": [
    {
     "name": "stdout",
     "output_type": "stream",
     "text": [
      "+-------+------------------+\n",
      "|summary|      content_size|\n",
      "+-------+------------------+\n",
      "|  count|           3461612|\n",
      "|   mean|18928.844398216785|\n",
      "| stddev| 73031.47260949228|\n",
      "|    min|                 0|\n",
      "|    max|           6823936|\n",
      "+-------+------------------+\n",
      "\n"
     ]
    }
   ],
   "source": [
    "content_size_summary_df = logs_df.describe(['content_size'])\n",
    "content_size_summary_df.show()"
   ]
  },
  {
   "cell_type": "markdown",
   "metadata": {},
   "source": [
    "## Status analysis"
   ]
  },
  {
   "cell_type": "code",
   "execution_count": 20,
   "metadata": {},
   "outputs": [
    {
     "name": "stdout",
     "output_type": "stream",
     "text": [
      "Found 8 statuses\n",
      "Status Counts\n",
      "+---+-------+\n",
      "|_1 |_2     |\n",
      "+---+-------+\n",
      "|200|3100524|\n",
      "|304|266773 |\n",
      "|302|73070  |\n",
      "|404|20899  |\n",
      "|500|65     |\n",
      "|400|15     |\n",
      "|403|225    |\n",
      "|501|41     |\n",
      "+---+-------+\n",
      "\n"
     ]
    }
   ],
   "source": [
    "# Response Code to Count\n",
    "responseCodeToCount = (logs_rdd\n",
    "                       .map(lambda log: (log.status, 1))\n",
    "                       .reduceByKey(lambda a, b: a + b)\n",
    "                       .cache())\n",
    "responseCodeToCountList = responseCodeToCount.take(100)\n",
    "print('Found %d statuses' % len(responseCodeToCountList))\n",
    "print('Status Counts')\n",
    "sc.parallelize(responseCodeToCountList, 10).toDF().show(truncate=False)"
   ]
  },
  {
   "cell_type": "code",
   "execution_count": 21,
   "metadata": {},
   "outputs": [
    {
     "data": {
      "text/plain": [
       "<matplotlib.legend.Legend at 0x11b9847b8>"
      ]
     },
     "execution_count": 21,
     "metadata": {},
     "output_type": "execute_result"
    },
    {
     "data": {
      "image/png": "[encoded data removed]",
      "text/plain": [
       "<Figure size 432x432 with 1 Axes>"
      ]
     },
     "metadata": {},
     "output_type": "display_data"
    }
   ],
   "source": [
    "import matplotlib.pyplot as plt\n",
    "%matplotlib inline\n",
    "\n",
    "labels = responseCodeToCount.map(lambda x: x[0]).collect()\n",
    "count = logs_df.count()\n",
    "proportions = responseCodeToCount.map(lambda x: (float(x[1]) / count)).collect()\n",
    "\n",
    "def pie_pct_format(value):\n",
    "    # hide percentage label for slices with small percentages\n",
    "    return '' if value < 6 else '%.0f%%' % value\n",
    "\n",
    "fig = plt.figure(figsize=(6, 6), facecolor='white', edgecolor='white')\n",
    "colors = ['orange', 'yellow', 'yellowgreen', 'lightskyblue', 'gold', 'blue', 'lightcoral', 'green']\n",
    "patches, texts, autotexts = plt.pie(proportions, labels=labels, colors=colors,\n",
    "                                    autopct=pie_pct_format, shadow=False,  startangle=125)\n",
    "   \n",
    "for text, autotext in zip(texts, autotexts):\n",
    "    if autotext.get_text() == '':\n",
    "        text.set_text('')  # hide text label for slices with small percentages\n",
    "        \n",
    "plt.legend(labels, loc=(0.80, -0.1), shadow=True)"
   ]
  },
  {
   "cell_type": "markdown",
   "metadata": {},
   "source": [
    "## Endpoints analysis"
   ]
  },
  {
   "cell_type": "code",
   "execution_count": 22,
   "metadata": {
    "scrolled": false
   },
   "outputs": [
    {
     "data": {
      "text/plain": [
       "[<matplotlib.lines.Line2D at 0x11dcde5f8>]"
      ]
     },
     "execution_count": 22,
     "metadata": {},
     "output_type": "execute_result"
    },
    {
     "data": {
      "image/png": "[encoded data removed]",
      "text/plain": [
       "<Figure size 576x302.4 with 1 Axes>"
      ]
     },
     "metadata": {},
     "output_type": "display_data"
    }
   ],
   "source": [
    "endpoints = (logs_rdd\n",
    "             .map(lambda log: (log.endpoint, 1))\n",
    "             .reduceByKey(lambda a, b : a + b)\n",
    "             .cache())\n",
    "ends = endpoints.map(lambda x: x[0]).collect()\n",
    "counts = endpoints.map(lambda x: x[1]).collect()\n",
    "\n",
    "fig = plt.figure(figsize=(8,4.2), facecolor='white', edgecolor='white')\n",
    "plt.axis([0, len(ends), 0, max(counts)])\n",
    "plt.grid(b=True, which='major', axis='y')\n",
    "plt.xlabel('Endpoints')\n",
    "plt.ylabel('Number of Hits')\n",
    "plt.plot(counts)"
   ]
  },
  {
   "cell_type": "markdown",
   "metadata": {},
   "source": [
    "We now create a new dataframe with two columns: host and day (extracted from time)."
   ]
  },
  {
   "cell_type": "markdown",
   "metadata": {},
   "source": [
    "### Top ten endpoints"
   ]
  },
  {
   "cell_type": "code",
   "execution_count": 23,
   "metadata": {},
   "outputs": [],
   "source": [
    "endpointCounts = (logs_rdd\n",
    "                  .map(lambda log: (log.endpoint, 1))\n",
    "                  .reduceByKey(lambda a, b : a + b))\n",
    "\n",
    "topEndpoints = endpointCounts.takeOrdered(10, lambda s: -1 * s[1])"
   ]
  },
  {
   "cell_type": "code",
   "execution_count": 24,
   "metadata": {
    "scrolled": true
   },
   "outputs": [
    {
     "name": "stdout",
     "output_type": "stream",
     "text": [
      "Top ten endpoints\n",
      "+---------------------------------------+------+\n",
      "|_1                                     |_2    |\n",
      "+---------------------------------------+------+\n",
      "|/images/NASA-logosmall.gif             |208714|\n",
      "|/images/KSC-logosmall.gif              |164970|\n",
      "|/images/MOSAIC-logosmall.gif           |127908|\n",
      "|/images/USA-logosmall.gif              |127074|\n",
      "|/images/WORLD-logosmall.gif            |125925|\n",
      "|/images/ksclogo-medium.gif             |121572|\n",
      "|/ksc.html                              |83909 |\n",
      "|/images/launch-logo.gif                |76006 |\n",
      "|/history/apollo/images/apollo-logo1.gif|68896 |\n",
      "|/shuttle/countdown/                    |64736 |\n",
      "+---------------------------------------+------+\n",
      "\n"
     ]
    }
   ],
   "source": [
    "print('Top ten endpoints')\n",
    "sc.parallelize(topEndpoints, 10).toDF().show(truncate=False)"
   ]
  },
  {
   "cell_type": "markdown",
   "metadata": {},
   "source": [
    "### Top ten error endpoints"
   ]
  },
  {
   "cell_type": "code",
   "execution_count": 25,
   "metadata": {},
   "outputs": [],
   "source": [
    "not200 = logs_rdd.filter(lambda log: log.status != 200)\n",
    "\n",
    "endpointCountPairTuple = not200.map(lambda log: (log.endpoint, 1))\n",
    "\n",
    "endpointSum = endpointCountPairTuple.reduceByKey(lambda a, b : a + b)\n",
    "\n",
    "topTenErrURLs = endpointSum.takeOrdered(10, lambda s: -1 * s[1])"
   ]
  },
  {
   "cell_type": "code",
   "execution_count": 26,
   "metadata": {},
   "outputs": [
    {
     "name": "stdout",
     "output_type": "stream",
     "text": [
      "Top ten error endpoints\n",
      "+---------------------------------------+-----+\n",
      "|_1                                     |_2   |\n",
      "+---------------------------------------+-----+\n",
      "|/images/NASA-logosmall.gif             |40082|\n",
      "|/images/KSC-logosmall.gif              |23763|\n",
      "|/images/MOSAIC-logosmall.gif           |15245|\n",
      "|/images/USA-logosmall.gif              |15142|\n",
      "|/images/WORLD-logosmall.gif            |14773|\n",
      "|/images/ksclogo-medium.gif             |13559|\n",
      "|/images/launch-logo.gif                |8806 |\n",
      "|/history/apollo/images/apollo-logo1.gif|7489 |\n",
      "|/                                      |6296 |\n",
      "|/images/ksclogosmall.gif               |5669 |\n",
      "+---------------------------------------+-----+\n",
      "\n"
     ]
    }
   ],
   "source": [
    "print('Top ten error endpoints')\n",
    "sc.parallelize(topTenErrURLs, 10).toDF().show(truncate=False)"
   ]
  },
  {
   "cell_type": "markdown",
   "metadata": {},
   "source": [
    "## Hosts analysis"
   ]
  },
  {
   "cell_type": "markdown",
   "metadata": {},
   "source": [
    "### Number of unique hosts"
   ]
  },
  {
   "cell_type": "code",
   "execution_count": 27,
   "metadata": {},
   "outputs": [
    {
     "name": "stdout",
     "output_type": "stream",
     "text": [
      "Unique hosts: 137933\n"
     ]
    }
   ],
   "source": [
    "hosts = logs_rdd.map(lambda log: log.host)\n",
    "\n",
    "uniqueHosts = hosts.distinct()\n",
    "\n",
    "uniqueHostCount = uniqueHosts.count()\n",
    "print('Unique hosts: %d' % uniqueHostCount)"
   ]
  },
  {
   "cell_type": "markdown",
   "metadata": {},
   "source": [
    "### Number of unique daily hosts"
   ]
  },
  {
   "cell_type": "code",
   "execution_count": 28,
   "metadata": {},
   "outputs": [
    {
     "name": "stdout",
     "output_type": "stream",
     "text": [
      "+--------------------+---+\n",
      "|host                |day|\n",
      "+--------------------+---+\n",
      "|199.72.81.55        |1  |\n",
      "|unicomp6.unicomp.net|1  |\n",
      "|199.120.110.21      |1  |\n",
      "|burger.letters.com  |1  |\n",
      "|199.120.110.21      |1  |\n",
      "+--------------------+---+\n",
      "only showing top 5 rows\n",
      "\n"
     ]
    }
   ],
   "source": [
    "from pyspark.sql import functions as F\n",
    "host_day_df = logs_df.select(logs_df.host, \n",
    "                             F.dayofmonth('time').alias('day'))\n",
    "host_day_df.show(5, truncate=False)"
   ]
  },
  {
   "cell_type": "code",
   "execution_count": 29,
   "metadata": {},
   "outputs": [
    {
     "name": "stdout",
     "output_type": "stream",
     "text": [
      "+-----------------------+---+\n",
      "|host                   |day|\n",
      "+-----------------------+---+\n",
      "|129.94.144.152         |1  |\n",
      "|slip1.yab.com          |1  |\n",
      "|205.184.190.47         |1  |\n",
      "|204.120.34.71          |1  |\n",
      "|ppp3_130.bekkoame.or.jp|1  |\n",
      "+-----------------------+---+\n",
      "only showing top 5 rows\n",
      "\n"
     ]
    }
   ],
   "source": [
    "host_day_distinct_df = (host_day_df\n",
    "                          .dropDuplicates())\n",
    "host_day_distinct_df.show(5, truncate=False)"
   ]
  },
  {
   "cell_type": "code",
   "execution_count": 30,
   "metadata": {},
   "outputs": [
    {
     "data": {
      "text/html": [
       "<div>\n",
       "<style scoped>\n",
       "    .dataframe tbody tr th:only-of-type {\n",
       "        vertical-align: middle;\n",
       "    }\n",
       "\n",
       "    .dataframe tbody tr th {\n",
       "        vertical-align: top;\n",
       "    }\n",
       "\n",
       "    .dataframe thead th {\n",
       "        text-align: right;\n",
       "    }\n",
       "</style>\n",
       "<table border=\"1\" class=\"dataframe\">\n",
       "  <thead>\n",
       "    <tr style=\"text-align: right;\">\n",
       "      <th></th>\n",
       "      <th>day</th>\n",
       "      <th>count</th>\n",
       "    </tr>\n",
       "  </thead>\n",
       "  <tbody>\n",
       "    <tr>\n",
       "      <th>0</th>\n",
       "      <td>1</td>\n",
       "      <td>7609</td>\n",
       "    </tr>\n",
       "    <tr>\n",
       "      <th>1</th>\n",
       "      <td>2</td>\n",
       "      <td>4858</td>\n",
       "    </tr>\n",
       "    <tr>\n",
       "      <th>2</th>\n",
       "      <td>3</td>\n",
       "      <td>10238</td>\n",
       "    </tr>\n",
       "    <tr>\n",
       "      <th>3</th>\n",
       "      <td>4</td>\n",
       "      <td>9411</td>\n",
       "    </tr>\n",
       "    <tr>\n",
       "      <th>4</th>\n",
       "      <td>5</td>\n",
       "      <td>9640</td>\n",
       "    </tr>\n",
       "    <tr>\n",
       "      <th>...</th>\n",
       "      <td>...</td>\n",
       "      <td>...</td>\n",
       "    </tr>\n",
       "    <tr>\n",
       "      <th>26</th>\n",
       "      <td>27</td>\n",
       "      <td>6846</td>\n",
       "    </tr>\n",
       "    <tr>\n",
       "      <th>27</th>\n",
       "      <td>28</td>\n",
       "      <td>6090</td>\n",
       "    </tr>\n",
       "    <tr>\n",
       "      <th>28</th>\n",
       "      <td>29</td>\n",
       "      <td>4825</td>\n",
       "    </tr>\n",
       "    <tr>\n",
       "      <th>29</th>\n",
       "      <td>30</td>\n",
       "      <td>5265</td>\n",
       "    </tr>\n",
       "    <tr>\n",
       "      <th>30</th>\n",
       "      <td>31</td>\n",
       "      <td>5913</td>\n",
       "    </tr>\n",
       "  </tbody>\n",
       "</table>\n",
       "<p>31 rows × 2 columns</p>\n",
       "</div>"
      ],
      "text/plain": [
       "    day  count\n",
       "0     1   7609\n",
       "1     2   4858\n",
       "2     3  10238\n",
       "3     4   9411\n",
       "4     5   9640\n",
       "..  ...    ...\n",
       "26   27   6846\n",
       "27   28   6090\n",
       "28   29   4825\n",
       "29   30   5265\n",
       "30   31   5913\n",
       "\n",
       "[31 rows x 2 columns]"
      ]
     },
     "execution_count": 30,
     "metadata": {},
     "output_type": "execute_result"
    }
   ],
   "source": [
    "def_mr = pd.get_option('max_rows')\n",
    "pd.set_option('max_rows', 10)\n",
    "\n",
    "daily_hosts_df = (host_day_distinct_df\n",
    "                     .groupBy('day')\n",
    "                     .count()\n",
    "                     .sort('day'))\n",
    "\n",
    "daily_hosts_df = daily_hosts_df.toPandas()\n",
    "daily_hosts_df"
   ]
  },
  {
   "cell_type": "code",
   "execution_count": 31,
   "metadata": {
    "scrolled": true
   },
   "outputs": [
    {
     "data": {
      "text/plain": [
       "<seaborn.axisgrid.FacetGrid at 0x12e305240>"
      ]
     },
     "execution_count": 31,
     "metadata": {},
     "output_type": "execute_result"
    },
    {
     "data": {
      "image/png": "[encoded data removed]",
      "text/plain": [
       "<Figure size 540x360 with 1 Axes>"
      ]
     },
     "metadata": {
      "needs_background": "light"
     },
     "output_type": "display_data"
    }
   ],
   "source": [
    "import seaborn as sns\n",
    "sns.catplot(x='day', y='count', data=daily_hosts_df, kind='point', height=5, aspect=1.5)"
   ]
  },
  {
   "cell_type": "markdown",
   "metadata": {},
   "source": [
    "### Average number of daily requests per hosts"
   ]
  },
  {
   "cell_type": "code",
   "execution_count": 32,
   "metadata": {},
   "outputs": [
    {
     "data": {
      "text/html": [
       "<div>\n",
       "<style scoped>\n",
       "    .dataframe tbody tr th:only-of-type {\n",
       "        vertical-align: middle;\n",
       "    }\n",
       "\n",
       "    .dataframe tbody tr th {\n",
       "        vertical-align: top;\n",
       "    }\n",
       "\n",
       "    .dataframe thead th {\n",
       "        text-align: right;\n",
       "    }\n",
       "</style>\n",
       "<table border=\"1\" class=\"dataframe\">\n",
       "  <thead>\n",
       "    <tr style=\"text-align: right;\">\n",
       "      <th></th>\n",
       "      <th>day</th>\n",
       "      <th>total_reqs</th>\n",
       "      <th>total_hosts</th>\n",
       "      <th>avg_reqs</th>\n",
       "    </tr>\n",
       "  </thead>\n",
       "  <tbody>\n",
       "    <tr>\n",
       "      <th>0</th>\n",
       "      <td>1</td>\n",
       "      <td>98710</td>\n",
       "      <td>7609</td>\n",
       "      <td>12.972795</td>\n",
       "    </tr>\n",
       "    <tr>\n",
       "      <th>1</th>\n",
       "      <td>2</td>\n",
       "      <td>60265</td>\n",
       "      <td>4858</td>\n",
       "      <td>12.405311</td>\n",
       "    </tr>\n",
       "    <tr>\n",
       "      <th>2</th>\n",
       "      <td>3</td>\n",
       "      <td>130972</td>\n",
       "      <td>10238</td>\n",
       "      <td>12.792733</td>\n",
       "    </tr>\n",
       "    <tr>\n",
       "      <th>3</th>\n",
       "      <td>4</td>\n",
       "      <td>130009</td>\n",
       "      <td>9411</td>\n",
       "      <td>13.814579</td>\n",
       "    </tr>\n",
       "    <tr>\n",
       "      <th>4</th>\n",
       "      <td>5</td>\n",
       "      <td>126468</td>\n",
       "      <td>9640</td>\n",
       "      <td>13.119087</td>\n",
       "    </tr>\n",
       "    <tr>\n",
       "      <th>...</th>\n",
       "      <td>...</td>\n",
       "      <td>...</td>\n",
       "      <td>...</td>\n",
       "      <td>...</td>\n",
       "    </tr>\n",
       "    <tr>\n",
       "      <th>26</th>\n",
       "      <td>27</td>\n",
       "      <td>94503</td>\n",
       "      <td>6846</td>\n",
       "      <td>13.804119</td>\n",
       "    </tr>\n",
       "    <tr>\n",
       "      <th>27</th>\n",
       "      <td>28</td>\n",
       "      <td>82617</td>\n",
       "      <td>6090</td>\n",
       "      <td>13.566010</td>\n",
       "    </tr>\n",
       "    <tr>\n",
       "      <th>28</th>\n",
       "      <td>29</td>\n",
       "      <td>67988</td>\n",
       "      <td>4825</td>\n",
       "      <td>14.090777</td>\n",
       "    </tr>\n",
       "    <tr>\n",
       "      <th>29</th>\n",
       "      <td>30</td>\n",
       "      <td>80641</td>\n",
       "      <td>5265</td>\n",
       "      <td>15.316429</td>\n",
       "    </tr>\n",
       "    <tr>\n",
       "      <th>30</th>\n",
       "      <td>31</td>\n",
       "      <td>90125</td>\n",
       "      <td>5913</td>\n",
       "      <td>15.241840</td>\n",
       "    </tr>\n",
       "  </tbody>\n",
       "</table>\n",
       "<p>31 rows × 4 columns</p>\n",
       "</div>"
      ],
      "text/plain": [
       "    day  total_reqs  total_hosts   avg_reqs\n",
       "0     1       98710         7609  12.972795\n",
       "1     2       60265         4858  12.405311\n",
       "2     3      130972        10238  12.792733\n",
       "3     4      130009         9411  13.814579\n",
       "4     5      126468         9640  13.119087\n",
       "..  ...         ...          ...        ...\n",
       "26   27       94503         6846  13.804119\n",
       "27   28       82617         6090  13.566010\n",
       "28   29       67988         4825  14.090777\n",
       "29   30       80641         5265  15.316429\n",
       "30   31       90125         5913  15.241840\n",
       "\n",
       "[31 rows x 4 columns]"
      ]
     },
     "execution_count": 32,
     "metadata": {},
     "output_type": "execute_result"
    }
   ],
   "source": [
    "# df with columns day, total number of hosts\n",
    "daily_hosts_df = (host_day_distinct_df\n",
    "                     .groupBy('day')\n",
    "                     .count()\n",
    "                     .select(col('day'), col('count').alias('total_hosts')))\n",
    "\n",
    "# df with columns day, total number of daily requests\n",
    "total_daily_reqests_df = (logs_df\n",
    "                              .select(F.dayofmonth('time').alias('day'))\n",
    "                              .groupBy('day')\n",
    "                              .count()\n",
    "                              .select(col('day'), \n",
    "                                      col('count').alias('total_reqs')))\n",
    "\n",
    "# join the 2 df's\n",
    "avg_daily_reqests_per_host_df = total_daily_reqests_df.join(daily_hosts_df, 'day')\n",
    "\n",
    "# add a column: average daily requests per hosts\n",
    "avg_daily_reqests_per_host_df = (avg_daily_reqests_per_host_df\n",
    "                                    .withColumn('avg_reqs', col('total_reqs') / col('total_hosts'))\n",
    "                                    .sort(\"day\"))\n",
    "avg_daily_reqests_per_host_df = avg_daily_reqests_per_host_df.toPandas()\n",
    "avg_daily_reqests_per_host_df"
   ]
  },
  {
   "cell_type": "code",
   "execution_count": 33,
   "metadata": {},
   "outputs": [
    {
     "data": {
      "text/plain": [
       "<seaborn.axisgrid.FacetGrid at 0x12e592550>"
      ]
     },
     "execution_count": 33,
     "metadata": {},
     "output_type": "execute_result"
    },
    {
     "data": {
      "image/png": "[encoded data removed]",
      "text/plain": [
       "<Figure size 540x360 with 1 Axes>"
      ]
     },
     "metadata": {
      "needs_background": "light"
     },
     "output_type": "display_data"
    }
   ],
   "source": [
    "sns.catplot(x='day', y='avg_reqs', data=avg_daily_reqests_per_host_df, kind='point', height=5, aspect=1.5)"
   ]
  },
  {
   "cell_type": "markdown",
   "metadata": {},
   "source": [
    "## 404 analysis"
   ]
  },
  {
   "cell_type": "code",
   "execution_count": 34,
   "metadata": {},
   "outputs": [
    {
     "name": "stdout",
     "output_type": "stream",
     "text": [
      "Found 20899 404 responses\n"
     ]
    }
   ],
   "source": [
    "not_found_df = logs_df.filter(logs_df[\"status\"] == 404).cache()\n",
    "print('Found %s 404 responses' % not_found_df.count())"
   ]
  },
  {
   "cell_type": "code",
   "execution_count": 35,
   "metadata": {
    "scrolled": false
   },
   "outputs": [
    {
     "name": "stdout",
     "output_type": "stream",
     "text": [
      "+-----------------------------------------------------------------+-----+\n",
      "|endpoint                                                         |count|\n",
      "+-----------------------------------------------------------------+-----+\n",
      "|/pub/winvn/readme.txt                                            |2004 |\n",
      "|/pub/winvn/release.txt                                           |1732 |\n",
      "|/shuttle/missions/STS-69/mission-STS-69.html                     |683  |\n",
      "|/shuttle/missions/sts-68/ksc-upclose.gif                         |428  |\n",
      "|/history/apollo/a-001/a-001-patch-small.gif                      |384  |\n",
      "|/history/apollo/sa-1/sa-1-patch-small.gif                        |383  |\n",
      "|/://spacelink.msfc.nasa.gov                                      |381  |\n",
      "|/images/crawlerway-logo.gif                                      |374  |\n",
      "|/elv/DELTA/uncons.htm                                            |372  |\n",
      "|/history/apollo/pad-abort-test-1/pad-abort-test-1-patch-small.gif|359  |\n",
      "|/images/nasa-logo.gif                                            |319  |\n",
      "|/shuttle/resources/orbiters/atlantis.gif                         |314  |\n",
      "|/history/apollo/apollo-13.html                                   |304  |\n",
      "|/shuttle/resources/orbiters/discovery.gif                        |263  |\n",
      "|/shuttle/missions/sts-71/images/KSC-95EC-0916.txt                |190  |\n",
      "|/shuttle/resources/orbiters/challenger.gif                       |170  |\n",
      "|/shuttle/missions/technology/sts-newsref/stsref-toc.html         |158  |\n",
      "|/history/apollo/images/little-joe.jpg                            |150  |\n",
      "|/images/lf-logo.gif                                              |143  |\n",
      "|/history/apollo/publications/sp-350/sp-350.txt~                  |140  |\n",
      "+-----------------------------------------------------------------+-----+\n",
      "\n"
     ]
    }
   ],
   "source": [
    "endpoints_404_count_df = (not_found_df\n",
    "                          .groupBy(\"endpoint\")\n",
    "                          .count()\n",
    "                          .sort(\"count\", ascending=False)\n",
    "                          .limit(20))\n",
    "\n",
    "endpoints_404_count_df.show(truncate=False)"
   ]
  },
  {
   "cell_type": "markdown",
   "metadata": {},
   "source": [
    "### Top twenty 404 urls"
   ]
  },
  {
   "cell_type": "code",
   "execution_count": 36,
   "metadata": {},
   "outputs": [
    {
     "name": "stdout",
     "output_type": "stream",
     "text": [
      "+---------------------------+-----+\n",
      "|host                       |count|\n",
      "+---------------------------+-----+\n",
      "|hoohoo.ncsa.uiuc.edu       |251  |\n",
      "|piweba3y.prodigy.com       |157  |\n",
      "|jbiagioni.npt.nuwc.navy.mil|132  |\n",
      "|piweba1y.prodigy.com       |114  |\n",
      "|                           |112  |\n",
      "|www-d4.proxy.aol.com       |91   |\n",
      "|piweba4y.prodigy.com       |86   |\n",
      "|scooter.pa-x.dec.com       |69   |\n",
      "|www-d1.proxy.aol.com       |64   |\n",
      "|phaelon.ksc.nasa.gov       |64   |\n",
      "|dialip-217.den.mmc.com     |62   |\n",
      "|www-b4.proxy.aol.com       |62   |\n",
      "|www-b3.proxy.aol.com       |61   |\n",
      "|www-a2.proxy.aol.com       |60   |\n",
      "|www-d2.proxy.aol.com       |59   |\n",
      "|piweba2y.prodigy.com       |59   |\n",
      "|alyssa.prodigy.com         |56   |\n",
      "|monarch.eng.buffalo.edu    |56   |\n",
      "|www-b2.proxy.aol.com       |53   |\n",
      "|www-c4.proxy.aol.com       |53   |\n",
      "+---------------------------+-----+\n",
      "\n"
     ]
    }
   ],
   "source": [
    "hosts_404_count_df = (not_found_df\n",
    "                          .groupBy(\"host\")\n",
    "                          .count()\n",
    "                          .sort(\"count\", ascending=False)\n",
    "                          .limit(20))\n",
    "\n",
    "hosts_404_count_df.show(truncate=False)"
   ]
  },
  {
   "cell_type": "markdown",
   "metadata": {},
   "source": [
    "## Visualizing 404 errors per day"
   ]
  },
  {
   "cell_type": "code",
   "execution_count": 37,
   "metadata": {},
   "outputs": [
    {
     "data": {
      "text/html": [
       "<div>\n",
       "<style scoped>\n",
       "    .dataframe tbody tr th:only-of-type {\n",
       "        vertical-align: middle;\n",
       "    }\n",
       "\n",
       "    .dataframe tbody tr th {\n",
       "        vertical-align: top;\n",
       "    }\n",
       "\n",
       "    .dataframe thead th {\n",
       "        text-align: right;\n",
       "    }\n",
       "</style>\n",
       "<table border=\"1\" class=\"dataframe\">\n",
       "  <thead>\n",
       "    <tr style=\"text-align: right;\">\n",
       "      <th></th>\n",
       "      <th>day</th>\n",
       "      <th>count</th>\n",
       "    </tr>\n",
       "  </thead>\n",
       "  <tbody>\n",
       "    <tr>\n",
       "      <th>0</th>\n",
       "      <td>1</td>\n",
       "      <td>559</td>\n",
       "    </tr>\n",
       "    <tr>\n",
       "      <th>1</th>\n",
       "      <td>2</td>\n",
       "      <td>291</td>\n",
       "    </tr>\n",
       "    <tr>\n",
       "      <th>2</th>\n",
       "      <td>3</td>\n",
       "      <td>778</td>\n",
       "    </tr>\n",
       "    <tr>\n",
       "      <th>3</th>\n",
       "      <td>4</td>\n",
       "      <td>705</td>\n",
       "    </tr>\n",
       "    <tr>\n",
       "      <th>4</th>\n",
       "      <td>5</td>\n",
       "      <td>733</td>\n",
       "    </tr>\n",
       "    <tr>\n",
       "      <th>...</th>\n",
       "      <td>...</td>\n",
       "      <td>...</td>\n",
       "    </tr>\n",
       "    <tr>\n",
       "      <th>26</th>\n",
       "      <td>27</td>\n",
       "      <td>706</td>\n",
       "    </tr>\n",
       "    <tr>\n",
       "      <th>27</th>\n",
       "      <td>28</td>\n",
       "      <td>504</td>\n",
       "    </tr>\n",
       "    <tr>\n",
       "      <th>28</th>\n",
       "      <td>29</td>\n",
       "      <td>420</td>\n",
       "    </tr>\n",
       "    <tr>\n",
       "      <th>29</th>\n",
       "      <td>30</td>\n",
       "      <td>571</td>\n",
       "    </tr>\n",
       "    <tr>\n",
       "      <th>30</th>\n",
       "      <td>31</td>\n",
       "      <td>526</td>\n",
       "    </tr>\n",
       "  </tbody>\n",
       "</table>\n",
       "<p>31 rows × 2 columns</p>\n",
       "</div>"
      ],
      "text/plain": [
       "    day  count\n",
       "0     1    559\n",
       "1     2    291\n",
       "2     3    778\n",
       "3     4    705\n",
       "4     5    733\n",
       "..  ...    ...\n",
       "26   27    706\n",
       "27   28    504\n",
       "28   29    420\n",
       "29   30    571\n",
       "30   31    526\n",
       "\n",
       "[31 rows x 2 columns]"
      ]
     },
     "execution_count": 37,
     "metadata": {},
     "output_type": "execute_result"
    }
   ],
   "source": [
    "errors_by_date_sorted_df = (not_found_df\n",
    "                                .groupBy(F.dayofmonth('time').alias('day'))\n",
    "                                .count()\n",
    "                                .sort(\"day\"))\n",
    "\n",
    "errors_by_date_sorted_pd_df = errors_by_date_sorted_df.toPandas()\n",
    "errors_by_date_sorted_pd_df"
   ]
  },
  {
   "cell_type": "code",
   "execution_count": 38,
   "metadata": {
    "scrolled": true
   },
   "outputs": [
    {
     "data": {
      "text/plain": [
       "<seaborn.axisgrid.FacetGrid at 0x12e6d8160>"
      ]
     },
     "execution_count": 38,
     "metadata": {},
     "output_type": "execute_result"
    },
    {
     "data": {
      "image/png": "[encoded data removed]",
      "text/plain": [
       "<Figure size 540x360 with 1 Axes>"
      ]
     },
     "metadata": {
      "needs_background": "light"
     },
     "output_type": "display_data"
    }
   ],
   "source": [
    "sns.catplot(x='day', y='count', data=errors_by_date_sorted_pd_df, kind='point', height=5, aspect=1.5)"
   ]
  },
  {
   "cell_type": "markdown",
   "metadata": {},
   "source": [
    "### Top three days for 404 errors"
   ]
  },
  {
   "cell_type": "code",
   "execution_count": 39,
   "metadata": {},
   "outputs": [
    {
     "name": "stdout",
     "output_type": "stream",
     "text": [
      "+---+-----+\n",
      "|day|count|\n",
      "+---+-----+\n",
      "|  7| 1107|\n",
      "|  6| 1013|\n",
      "| 25|  876|\n",
      "+---+-----+\n",
      "only showing top 3 rows\n",
      "\n"
     ]
    }
   ],
   "source": [
    "(errors_by_date_sorted_df\n",
    "    .sort(\"count\", ascending=False)\n",
    "    .show(3))"
   ]
  }
 ],
 "metadata": {
  "kernelspec": {
   "display_name": "Python 3",
   "language": "python",
   "name": "python3"
  },
  "language_info": {
   "codemirror_mode": {
    "name": "ipython",
    "version": 3
   },
   "file_extension": ".py",
   "mimetype": "text/x-python",
   "name": "python",
   "nbconvert_exporter": "python",
   "pygments_lexer": "ipython3",
   "version": "3.7.3"
  }
 },
 "nbformat": 4,
 "nbformat_minor": 2
}
